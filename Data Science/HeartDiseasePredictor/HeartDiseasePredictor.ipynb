{
 "cells": [
  {
   "cell_type": "markdown",
   "metadata": {},
   "source": [
    "### Import Packages"
   ]
  },
  {
   "cell_type": "code",
   "execution_count": 30,
   "metadata": {},
   "outputs": [],
   "source": [
    "import numpy as np\n",
    "import matplotlib.pyplot as plt\n",
    "import pandas as pd\n",
    "import seaborn as sns\n",
    "\n",
    "#scikit learn library\n",
    "from sklearn.tree import DecisionTreeClassifier\n",
    "from sklearn.ensemble import RandomForestClassifier\n",
    "from sklearn.ensemble import GradientBoostingClassifier\n",
    "\n",
    "from sklearn.metrics import accuracy_score,confusion_matrix,classification_report"
   ]
  },
  {
   "cell_type": "code",
   "execution_count": 31,
   "metadata": {},
   "outputs": [],
   "source": [
    "import pickle\n",
    "from sklearn.externals import joblib"
   ]
  },
  {
   "cell_type": "markdown",
   "metadata": {},
   "source": [
    "### Global Variables"
   ]
  },
  {
   "cell_type": "code",
   "execution_count": 32,
   "metadata": {},
   "outputs": [],
   "source": [
    "# Create Global Variables If Necessay\n",
    "projectName = 'HeartDisease'\n",
    "datasetPath = 'D:/MS COMPUTER SCIENCE/Programing_Practice/Data Science/HeartDiseasePredictor/'\n",
    "modelSavePath = 'D:/MS COMPUTER SCIENCE/Programing_Practice/Data Science/HeartDiseasePredictor/'"
   ]
  },
  {
   "cell_type": "markdown",
   "metadata": {},
   "source": [
    "### Custom Functions"
   ]
  },
  {
   "cell_type": "code",
   "execution_count": 33,
   "metadata": {},
   "outputs": [],
   "source": [
    "def plot_corr(df):\n",
    "    corr=df.corr()\n",
    "    mask = np.zeros_like(corr, dtype=np.bool)\n",
    "    mask[np.triu_indices_from(mask)] = True\n",
    "    # Set up the matplotlib figure\n",
    "    f, ax = plt.subplots(figsize=(11, 9))\n",
    "    # Generate a custom diverging colormap\n",
    "    cmap = sns.diverging_palette(220, 10, as_cmap=True)\n",
    "    # Draw the heatmap with the mask and correct aspect ratio\n",
    "    sns.heatmap(corr, mask=mask, cmap=cmap, vmax=.3, center=0,square=True, linewidths=.5, cbar_kws={\"shrink\": .5})"
   ]
  },
  {
   "cell_type": "markdown",
   "metadata": {},
   "source": [
    "### Data Preprocessing"
   ]
  },
  {
   "cell_type": "code",
   "execution_count": 69,
   "metadata": {},
   "outputs": [
    {
     "name": "stdout",
     "output_type": "stream",
     "text": [
      "<class 'pandas.core.frame.DataFrame'>\n",
      "RangeIndex: 303 entries, 0 to 302\n",
      "Data columns (total 14 columns):\n",
      "age         303 non-null int64\n",
      "sex         303 non-null int64\n",
      "cp          303 non-null int64\n",
      "trestbps    303 non-null int64\n",
      "chol        303 non-null int64\n",
      "fbs         303 non-null int64\n",
      "restecg     303 non-null int64\n",
      "thalach     303 non-null int64\n",
      "exang       303 non-null int64\n",
      "oldpeak     303 non-null float64\n",
      "slope       303 non-null int64\n",
      "ca          303 non-null int64\n",
      "thal        303 non-null int64\n",
      "target      303 non-null int64\n",
      "dtypes: float64(1), int64(13)\n",
      "memory usage: 33.3 KB\n"
     ]
    }
   ],
   "source": [
    "df = pd.read_csv(datasetPath + 'Data.csv')\n",
    "df.info()"
   ]
  },
  {
   "cell_type": "code",
   "execution_count": 70,
   "metadata": {},
   "outputs": [],
   "source": [
    "# Get The Number Of Unique Values From Each Column and Encode Categorical Data\n",
    "from sklearn.preprocessing import LabelEncoder\n",
    "labelencoder_df = LabelEncoder()\n",
    "for col in list(df.columns)[:-1]:\n",
    "    if len(df[col].unique()) < 10:\n",
    "        df[col] = labelencoder_df.fit_transform(df[col])"
   ]
  },
  {
   "cell_type": "markdown",
   "metadata": {},
   "source": [
    "### Feature Selection Using Pearson Correlation"
   ]
  },
  {
   "cell_type": "code",
   "execution_count": 71,
   "metadata": {},
   "outputs": [
    {
     "data": {
      "image/png": "[encoded data removed]",
      "text/plain": [
       "<Figure size 720x720 with 2 Axes>"
      ]
     },
     "metadata": {
      "needs_background": "light"
     },
     "output_type": "display_data"
    }
   ],
   "source": [
    "# Compute Pearson Correlation\n",
    "cor = df.corr()\n",
    "\n",
    "#Correlation with output variable\n",
    "cor_target = abs(cor['target'])\n",
    "\n",
    "# Plot Correlation Heatmap\n",
    "plt.figure(figsize=(10,10))\n",
    "sns.heatmap(cor, annot=False, cmap=plt.cm.Reds)\n",
    "plt.show()"
   ]
  },
  {
   "cell_type": "code",
   "execution_count": 72,
   "metadata": {},
   "outputs": [
    {
     "name": "stdout",
     "output_type": "stream",
     "text": [
      "age         0.225439\n",
      "sex         0.280937\n",
      "cp          0.433798\n",
      "trestbps    0.144931\n",
      "chol        0.085239\n",
      "fbs         0.028046\n",
      "restecg     0.137230\n",
      "thalach     0.421741\n",
      "exang       0.436757\n",
      "oldpeak     0.430696\n",
      "slope       0.345877\n",
      "ca          0.391724\n",
      "thal        0.344029\n",
      "target      1.000000\n",
      "Name: target, dtype: float64\n"
     ]
    }
   ],
   "source": [
    "#Selecting highly correlated features\n",
    "relevant_features = cor_target[cor_target>0]\n",
    "print(relevant_features)"
   ]
  },
  {
   "cell_type": "markdown",
   "metadata": {},
   "source": [
    "### Create Testing and Training Data"
   ]
  },
  {
   "cell_type": "code",
   "execution_count": 73,
   "metadata": {},
   "outputs": [],
   "source": [
    "#SEPERATE LABEL COLUMN FROM FEATURE COLUMNS\n",
    "df_label = df['target'].values\n",
    "df.drop(['target'], axis=1, inplace=True)\n",
    "df_feature = df[['age','sex','cp','trestbps','chol','fbs','restecg','thalach','exang','oldpeak','slope','ca','thal']].values\n",
    "\n",
    "#SPLIT TRAINING SET AND TESTING SET\n",
    "from sklearn.model_selection._split import train_test_split\n",
    "feature_train,feature_test,label_train,label_test = train_test_split(df_feature, df_label, test_size=0.20, random_state=39)"
   ]
  },
  {
   "cell_type": "markdown",
   "metadata": {},
   "source": [
    "### Data Modeling"
   ]
  },
  {
   "cell_type": "code",
   "execution_count": 77,
   "metadata": {},
   "outputs": [],
   "source": [
    "#DECISION TREE\n",
    "model_DT = DecisionTreeClassifier()\n",
    "model_DT.fit(feature_train,label_train)\n",
    "predicted_values_DT = model_DT.predict(feature_test)\n",
    "\n",
    "#RANDOM FOREST CLASSIFIER\n",
    "model_RF = RandomForestClassifier(random_state=39, n_estimators=100)\n",
    "model_RF.fit(feature_train,label_train)\n",
    "predicted_values_RF = model_RF.predict(feature_test)\n",
    "\n",
    "#GRADIENT BOOSTING ALGORITHM\n",
    "model_GB= GradientBoostingClassifier(n_estimators=50, random_state=39)\n",
    "model_GB.fit(feature_train, label_train)\n",
    "predicted_values_GBA = model_GB.predict(feature_test)"
   ]
  },
  {
   "cell_type": "markdown",
   "metadata": {},
   "source": [
    "### Meassure Accuracy"
   ]
  },
  {
   "cell_type": "code",
   "execution_count": 78,
   "metadata": {},
   "outputs": [
    {
     "name": "stdout",
     "output_type": "stream",
     "text": [
      "      Algorithm   Accuracy\n",
      "0  DecisionTree  78.688525\n",
      "1  RandomForest  83.606557\n",
      "2           GBA  81.967213\n"
     ]
    }
   ],
   "source": [
    "accuracy = dict()\n",
    "accuracy['DecisionTree'] = accuracy_score(predicted_values_DT,label_test)*100\n",
    "accuracy['RandomForest'] = accuracy_score(predicted_values_RF,label_test)*100\n",
    "accuracy['GBA'] = accuracy_score(predicted_values_GBA,label_test)*100\n",
    "#accuracy['Max_accuracy'] = 100\n",
    "accuracy=pd.DataFrame(list(accuracy.items()),columns=['Algorithm','Accuracy'])\n",
    "print(accuracy)"
   ]
  },
  {
   "cell_type": "markdown",
   "metadata": {},
   "source": [
    "### Plot Accuracy"
   ]
  },
  {
   "cell_type": "code",
   "execution_count": 79,
   "metadata": {},
   "outputs": [
    {
     "data": {
      "text/plain": [
       "<matplotlib.axes._subplots.AxesSubplot at 0x189c0cd0648>"
      ]
     },
     "execution_count": 79,
     "metadata": {},
     "output_type": "execute_result"
    },
    {
     "data": {
      "image/png": "[encoded data removed]",
      "text/plain": [
       "<Figure size 432x288 with 1 Axes>"
      ]
     },
     "metadata": {
      "needs_background": "light"
     },
     "output_type": "display_data"
    }
   ],
   "source": [
    "sns.lineplot(x='Algorithm',y='Accuracy',data=accuracy)"
   ]
  },
  {
   "cell_type": "markdown",
   "metadata": {},
   "source": [
    "### Save Model"
   ]
  },
  {
   "cell_type": "code",
   "execution_count": 80,
   "metadata": {},
   "outputs": [
    {
     "data": {
      "text/plain": [
       "['D:/MS COMPUTER SCIENCE/Programing_Practice/Data Science/HeartDiseasePredictor/HeartDisease_GradientBoostModel.pkl']"
      ]
     },
     "execution_count": 80,
     "metadata": {},
     "output_type": "execute_result"
    }
   ],
   "source": [
    "# Save The Models Performing Well As A Pickle String. \n",
    "save_Model_DT = pickle.dumps(model_DT)\n",
    "save_Model_RF = pickle.dumps(model_RF)\n",
    "save_Model_GB = pickle.dumps(model_GB)\n",
    "\n",
    "# Save The Pickle Model In A File \n",
    "joblib.dump(save_Model_DT, modelSavePath + projectName + '_DecisionTreeModel.pkl')\n",
    "joblib.dump(save_Model_RF, modelSavePath + projectName + '_KNNModel.pkl')\n",
    "joblib.dump(save_Model_GB, modelSavePath + projectName + '_GradientBoostModel.pkl')"
   ]
  },
  {
   "cell_type": "markdown",
   "metadata": {},
   "source": [
    "### Make Single Predictions"
   ]
  },
  {
   "cell_type": "code",
   "execution_count": 23,
   "metadata": {},
   "outputs": [],
   "source": [
    "# Load the pickled model \n",
    "load_Model_DT = joblib.load(modelSavePath + projectName + '_DecisionTreeModel.pkl')\n",
    "load_Model_RF = joblib.load(modelSavePath + projectName + '_KNNModel.pkl')\n",
    "load_Model_GB = joblib.load(modelSavePath + projectName + '_GradientBoostModel.pkl')\n",
    "  \n",
    "# Use the loaded pickled model to make predictions \n",
    "#load_Model_DT.predict(X_test)"
   ]
  }
 ],
 "metadata": {
  "kernelspec": {
   "display_name": "Python 3",
   "language": "python",
   "name": "python3"
  },
  "language_info": {
   "codemirror_mode": {
    "name": "ipython",
    "version": 3
   },
   "file_extension": ".py",
   "mimetype": "text/x-python",
   "name": "python",
   "nbconvert_exporter": "python",
   "pygments_lexer": "ipython3",
   "version": "3.7.4"
  }
 },
 "nbformat": 4,
 "nbformat_minor": 4
}

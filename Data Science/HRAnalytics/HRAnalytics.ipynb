{
 "cells": [
  {
   "cell_type": "markdown",
   "metadata": {},
   "source": [
    "### Import Packages"
   ]
  },
  {
   "cell_type": "code",
   "execution_count": 1,
   "metadata": {},
   "outputs": [],
   "source": [
    "import numpy as np\n",
    "import matplotlib.pyplot as plt\n",
    "import pandas as pd\n",
    "import seaborn as sns\n",
    "\n",
    "#scikit learn library\n",
    "from sklearn.tree import DecisionTreeClassifier\n",
    "from sklearn.ensemble import RandomForestClassifier\n",
    "from sklearn.ensemble import GradientBoostingClassifier\n",
    "\n",
    "from sklearn.metrics import accuracy_score,confusion_matrix,classification_report"
   ]
  },
  {
   "cell_type": "code",
   "execution_count": 2,
   "metadata": {},
   "outputs": [
    {
     "name": "stderr",
     "output_type": "stream",
     "text": [
      "C:\\ProgramData\\Anaconda3\\lib\\site-packages\\sklearn\\externals\\joblib\\__init__.py:15: DeprecationWarning: sklearn.externals.joblib is deprecated in 0.21 and will be removed in 0.23. Please import this functionality directly from joblib, which can be installed with: pip install joblib. If this warning is raised when loading pickled models, you may need to re-serialize those models with scikit-learn 0.21+.\n",
      "  warnings.warn(msg, category=DeprecationWarning)\n"
     ]
    }
   ],
   "source": [
    "import pickle\n",
    "from sklearn.externals import joblib"
   ]
  },
  {
   "cell_type": "markdown",
   "metadata": {},
   "source": [
    "### Global Variables"
   ]
  },
  {
   "cell_type": "code",
   "execution_count": 3,
   "metadata": {},
   "outputs": [],
   "source": [
    "# Create Global Variables If Necessay\n",
    "projectName = 'HRAnalytics'\n",
    "datasetPath = 'D:/MS COMPUTER SCIENCE/Programing_Practice/Data Science/HRAnalytics/Data/'\n",
    "modelSavePath = 'D:/MS COMPUTER SCIENCE/Programing_Practice/Data Science/HRAnalytics/'"
   ]
  },
  {
   "cell_type": "markdown",
   "metadata": {},
   "source": [
    "### Custom Functions"
   ]
  },
  {
   "cell_type": "code",
   "execution_count": 4,
   "metadata": {},
   "outputs": [],
   "source": [
    "def plot_corr(df):\n",
    "    corr=df.corr()\n",
    "    mask = np.zeros_like(corr, dtype=np.bool)\n",
    "    mask[np.triu_indices_from(mask)] = True\n",
    "    # Set up the matplotlib figure\n",
    "    f, ax = plt.subplots(figsize=(11, 9))\n",
    "    # Generate a custom diverging colormap\n",
    "    cmap = sns.diverging_palette(220, 10, as_cmap=True)\n",
    "    # Draw the heatmap with the mask and correct aspect ratio\n",
    "    sns.heatmap(corr, mask=mask, cmap=cmap, vmax=.3, center=0,square=True, linewidths=.5, cbar_kws={\"shrink\": .5})"
   ]
  },
  {
   "cell_type": "markdown",
   "metadata": {},
   "source": [
    "### Data Preprocessing"
   ]
  },
  {
   "cell_type": "code",
   "execution_count": 29,
   "metadata": {},
   "outputs": [
    {
     "name": "stdout",
     "output_type": "stream",
     "text": [
      "<class 'pandas.core.frame.DataFrame'>\n",
      "RangeIndex: 54808 entries, 0 to 54807\n",
      "Data columns (total 14 columns):\n",
      "employee_id             54808 non-null int64\n",
      "department              54808 non-null object\n",
      "region                  54808 non-null object\n",
      "education               52399 non-null object\n",
      "gender                  54808 non-null object\n",
      "recruitment_channel     54808 non-null object\n",
      "no_of_trainings         54808 non-null int64\n",
      "age                     54808 non-null int64\n",
      "previous_year_rating    50684 non-null float64\n",
      "length_of_service       54808 non-null int64\n",
      "KPIs_met >80%           54808 non-null int64\n",
      "awards_won?             54808 non-null int64\n",
      "avg_training_score      54808 non-null int64\n",
      "is_promoted             54808 non-null int64\n",
      "dtypes: float64(1), int64(8), object(5)\n",
      "memory usage: 5.9+ MB\n"
     ]
    }
   ],
   "source": [
    "df = pd.read_csv(datasetPath + 'TRAIN.csv')\n",
    "df.info()"
   ]
  },
  {
   "cell_type": "code",
   "execution_count": 30,
   "metadata": {},
   "outputs": [
    {
     "name": "stdout",
     "output_type": "stream",
     "text": [
      "education : 2409\n",
      "previous_year_rating : 4124\n",
      "<class 'pandas.core.frame.DataFrame'>\n",
      "RangeIndex: 54808 entries, 0 to 54807\n",
      "Data columns (total 14 columns):\n",
      "employee_id             54808 non-null int64\n",
      "department              54808 non-null object\n",
      "region                  54808 non-null object\n",
      "education               54808 non-null object\n",
      "gender                  54808 non-null object\n",
      "recruitment_channel     54808 non-null object\n",
      "no_of_trainings         54808 non-null int64\n",
      "age                     54808 non-null int64\n",
      "previous_year_rating    54808 non-null float64\n",
      "length_of_service       54808 non-null int64\n",
      "KPIs_met >80%           54808 non-null int64\n",
      "awards_won?             54808 non-null int64\n",
      "avg_training_score      54808 non-null int64\n",
      "is_promoted             54808 non-null int64\n",
      "dtypes: float64(1), int64(8), object(5)\n",
      "memory usage: 5.9+ MB\n"
     ]
    }
   ],
   "source": [
    "# CHECK FOR NAN VALUE IN THE DATA FRAME\n",
    "for col in list(df.columns):\n",
    "    # Display Columns With Null Values \n",
    "    if df[col].isnull().sum() > 0:\n",
    "        print((\"%s : %d\")%(col, df[col].isnull().sum()))\n",
    "        if df[col].dtype == 'object':\n",
    "            df[col].fillna('NA', inplace = True)\n",
    "        if df[col].dtype == 'int64':\n",
    "            df[col].fillna(0, inplace = True)\n",
    "        if df[col].dtype == 'float64':\n",
    "            df[col].fillna(0.0, inplace = True)\n",
    "        \n",
    "df.info()"
   ]
  },
  {
   "cell_type": "code",
   "execution_count": 31,
   "metadata": {},
   "outputs": [],
   "source": [
    "# Get The Number Of Unique Values From Each Column and Encode Categorical Data\n",
    "from sklearn.preprocessing import LabelEncoder\n",
    "labelencoder_df = LabelEncoder()\n",
    "for col in ['department', 'region', 'education', 'gender', 'recruitment_channel', 'previous_year_rating']:\n",
    "    df[col] = labelencoder_df.fit_transform(df[col])"
   ]
  },
  {
   "cell_type": "markdown",
   "metadata": {},
   "source": [
    "### Feature Selection Using Pearson Correlation"
   ]
  },
  {
   "cell_type": "code",
   "execution_count": 32,
   "metadata": {},
   "outputs": [
    {
     "data": {
      "image/png": "[encoded data removed]",
      "text/plain": [
       "<Figure size 720x720 with 2 Axes>"
      ]
     },
     "metadata": {
      "needs_background": "light"
     },
     "output_type": "display_data"
    }
   ],
   "source": [
    "# Compute Pearson Correlation\n",
    "cor = df.corr()\n",
    "\n",
    "#Correlation with output variable\n",
    "cor_target = abs(cor['is_promoted'])\n",
    "\n",
    "# Plot Correlation Heatmap\n",
    "plt.figure(figsize=(10,10))\n",
    "sns.heatmap(cor, annot=False, cmap=plt.cm.Reds)\n",
    "plt.show()"
   ]
  },
  {
   "cell_type": "code",
   "execution_count": 33,
   "metadata": {},
   "outputs": [
    {
     "name": "stdout",
     "output_type": "stream",
     "text": [
      "employee_id             0.001206\n",
      "department              0.000130\n",
      "region                  0.008841\n",
      "education               0.009608\n",
      "gender                  0.011109\n",
      "recruitment_channel     0.002229\n",
      "no_of_trainings         0.024896\n",
      "age                     0.017166\n",
      "previous_year_rating    0.125991\n",
      "length_of_service       0.010670\n",
      "KPIs_met >80%           0.221582\n",
      "awards_won?             0.195871\n",
      "avg_training_score      0.181147\n",
      "is_promoted             1.000000\n",
      "Name: is_promoted, dtype: float64\n"
     ]
    }
   ],
   "source": [
    "#Selecting highly correlated features\n",
    "relevant_features = cor_target[cor_target>0]\n",
    "print(relevant_features)"
   ]
  },
  {
   "cell_type": "markdown",
   "metadata": {},
   "source": [
    "### Create Testing and Training Data"
   ]
  },
  {
   "cell_type": "code",
   "execution_count": 34,
   "metadata": {},
   "outputs": [],
   "source": [
    "#SEPERATE LABEL COLUMN FROM FEATURE COLUMNS\n",
    "df_label = df['is_promoted'].values\n",
    "df.drop(['is_promoted'], axis=1, inplace=True)\n",
    "df_feature = df.values\n",
    "\n",
    "#SPLIT TRAINING SET AND TESTING SET\n",
    "from sklearn.model_selection._split import train_test_split\n",
    "feature_train,feature_test,label_train,label_test = train_test_split(df_feature, df_label, test_size=0.20, random_state=39)"
   ]
  },
  {
   "cell_type": "markdown",
   "metadata": {},
   "source": [
    "### Data Modeling"
   ]
  },
  {
   "cell_type": "code",
   "execution_count": 35,
   "metadata": {},
   "outputs": [],
   "source": [
    "#DECISION TREE\n",
    "model_DT = DecisionTreeClassifier()\n",
    "model_DT.fit(feature_train,label_train)\n",
    "predicted_values_DT = model_DT.predict(feature_test)\n",
    "\n",
    "#RANDOM FOREST CLASSIFIER\n",
    "model_RF = RandomForestClassifier(random_state=39, n_estimators=100)\n",
    "model_RF.fit(feature_train,label_train)\n",
    "predicted_values_RF = model_RF.predict(feature_test)\n",
    "\n",
    "#GRADIENT BOOSTING ALGORITHM\n",
    "model_GB= GradientBoostingClassifier(n_estimators=50, random_state=39)\n",
    "model_GB.fit(feature_train, label_train)\n",
    "predicted_values_GBA = model_GB.predict(feature_test)"
   ]
  },
  {
   "cell_type": "markdown",
   "metadata": {},
   "source": [
    "### Meassure Accuracy"
   ]
  },
  {
   "cell_type": "code",
   "execution_count": 36,
   "metadata": {},
   "outputs": [
    {
     "name": "stdout",
     "output_type": "stream",
     "text": [
      "      Algorithm   Accuracy\n",
      "0  DecisionTree  89.709907\n",
      "1  RandomForest  93.285897\n",
      "2           GBA  92.875388\n"
     ]
    }
   ],
   "source": [
    "accuracy = dict()\n",
    "accuracy['DecisionTree'] = accuracy_score(predicted_values_DT,label_test)*100\n",
    "accuracy['RandomForest'] = accuracy_score(predicted_values_RF,label_test)*100\n",
    "accuracy['GBA'] = accuracy_score(predicted_values_GBA,label_test)*100\n",
    "#accuracy['Max_accuracy'] = 100\n",
    "accuracy=pd.DataFrame(list(accuracy.items()),columns=['Algorithm','Accuracy'])\n",
    "print(accuracy)"
   ]
  },
  {
   "cell_type": "markdown",
   "metadata": {},
   "source": [
    "### Plot Accuracy"
   ]
  },
  {
   "cell_type": "code",
   "execution_count": 37,
   "metadata": {},
   "outputs": [
    {
     "data": {
      "text/plain": [
       "<matplotlib.axes._subplots.AxesSubplot at 0x2244b2d5308>"
      ]
     },
     "execution_count": 37,
     "metadata": {},
     "output_type": "execute_result"
    },
    {
     "data": {
      "image/png": "[encoded data removed]",
      "text/plain": [
       "<Figure size 432x288 with 1 Axes>"
      ]
     },
     "metadata": {
      "needs_background": "light"
     },
     "output_type": "display_data"
    }
   ],
   "source": [
    "sns.lineplot(x='Algorithm',y='Accuracy',data=accuracy)"
   ]
  },
  {
   "cell_type": "markdown",
   "metadata": {},
   "source": [
    "### Save Model"
   ]
  },
  {
   "cell_type": "code",
   "execution_count": 38,
   "metadata": {},
   "outputs": [
    {
     "data": {
      "text/plain": [
       "['D:/MS COMPUTER SCIENCE/Programing_Practice/Data Science/HRAnalytics/HRAnalytics_GradientBoostModel.pkl']"
      ]
     },
     "execution_count": 38,
     "metadata": {},
     "output_type": "execute_result"
    }
   ],
   "source": [
    "# Save The Models Performing Well As A Pickle String. \n",
    "save_Model_DT = pickle.dumps(model_DT)\n",
    "save_Model_RF = pickle.dumps(model_RF)\n",
    "save_Model_GB = pickle.dumps(model_GB)\n",
    "\n",
    "# Save The Pickle Model In A File \n",
    "joblib.dump(save_Model_DT, modelSavePath + projectName + '_DecisionTreeModel.pkl')\n",
    "joblib.dump(save_Model_RF, modelSavePath + projectName + '_KNNModel.pkl')\n",
    "joblib.dump(save_Model_GB, modelSavePath + projectName + '_GradientBoostModel.pkl')"
   ]
  },
  {
   "cell_type": "markdown",
   "metadata": {},
   "source": [
    "### Make Predictions"
   ]
  },
  {
   "cell_type": "code",
   "execution_count": 46,
   "metadata": {},
   "outputs": [],
   "source": [
    "# Load the pickled model \n",
    "loaded_DT = joblib.load(modelSavePath + projectName + '_DecisionTreeModel.pkl')\n",
    "loaded_RF = joblib.load(modelSavePath + projectName + '_KNNModel.pkl')\n",
    "loaded_GB = joblib.load(modelSavePath + projectName + '_GradientBoostModel.pkl')\n",
    "\n",
    "load_Model_DT = pickle.loads(loaded_DT)\n",
    "load_Model_RF = pickle.loads(loaded_RF)\n",
    "load_Model_GB = pickle.loads(loaded_GB)"
   ]
  },
  {
   "cell_type": "markdown",
   "metadata": {},
   "source": [
    "#### Test Data Preprocessing"
   ]
  },
  {
   "cell_type": "code",
   "execution_count": 40,
   "metadata": {},
   "outputs": [],
   "source": [
    "#Read Test Data Frame\n",
    "dfTest = pd.read_csv(datasetPath + 'TEST.csv')"
   ]
  },
  {
   "cell_type": "code",
   "execution_count": 41,
   "metadata": {},
   "outputs": [
    {
     "name": "stdout",
     "output_type": "stream",
     "text": [
      "education : 1034\n",
      "previous_year_rating : 1812\n",
      "<class 'pandas.core.frame.DataFrame'>\n",
      "RangeIndex: 23490 entries, 0 to 23489\n",
      "Data columns (total 13 columns):\n",
      "employee_id             23490 non-null int64\n",
      "department              23490 non-null object\n",
      "region                  23490 non-null object\n",
      "education               23490 non-null object\n",
      "gender                  23490 non-null object\n",
      "recruitment_channel     23490 non-null object\n",
      "no_of_trainings         23490 non-null int64\n",
      "age                     23490 non-null int64\n",
      "previous_year_rating    23490 non-null float64\n",
      "length_of_service       23490 non-null int64\n",
      "KPIs_met >80%           23490 non-null int64\n",
      "awards_won?             23490 non-null int64\n",
      "avg_training_score      23490 non-null int64\n",
      "dtypes: float64(1), int64(7), object(5)\n",
      "memory usage: 2.3+ MB\n"
     ]
    }
   ],
   "source": [
    "# CHECK FOR NAN VALUE IN THE DATA FRAME\n",
    "for col in list(dfTest.columns):\n",
    "    # Display Columns With Null Values \n",
    "    if dfTest[col].isnull().sum() > 0:\n",
    "        print((\"%s : %d\")%(col, dfTest[col].isnull().sum()))\n",
    "        if dfTest[col].dtype == 'object':\n",
    "            dfTest[col].fillna('NA', inplace = True)\n",
    "        if dfTest[col].dtype == 'int64':\n",
    "            dfTest[col].fillna(0, inplace = True)\n",
    "        if dfTest[col].dtype == 'float64':\n",
    "            dfTest[col].fillna(0.0, inplace = True)\n",
    "        \n",
    "dfTest.info()"
   ]
  },
  {
   "cell_type": "code",
   "execution_count": 42,
   "metadata": {},
   "outputs": [],
   "source": [
    "# Get The Number Of Unique Values From Each Column and Encode Categorical Data\n",
    "from sklearn.preprocessing import LabelEncoder\n",
    "labelencoder_df = LabelEncoder()\n",
    "for col in ['department', 'region', 'education', 'gender', 'recruitment_channel', 'previous_year_rating']:\n",
    "    dfTest[col] = labelencoder_df.fit_transform(dfTest[col])"
   ]
  },
  {
   "cell_type": "code",
   "execution_count": 43,
   "metadata": {},
   "outputs": [
    {
     "name": "stdout",
     "output_type": "stream",
     "text": [
      "<class 'pandas.core.frame.DataFrame'>\n",
      "RangeIndex: 23490 entries, 0 to 23489\n",
      "Data columns (total 13 columns):\n",
      "employee_id             23490 non-null int64\n",
      "department              23490 non-null int32\n",
      "region                  23490 non-null int32\n",
      "education               23490 non-null int32\n",
      "gender                  23490 non-null int32\n",
      "recruitment_channel     23490 non-null int32\n",
      "no_of_trainings         23490 non-null int64\n",
      "age                     23490 non-null int64\n",
      "previous_year_rating    23490 non-null int64\n",
      "length_of_service       23490 non-null int64\n",
      "KPIs_met >80%           23490 non-null int64\n",
      "awards_won?             23490 non-null int64\n",
      "avg_training_score      23490 non-null int64\n",
      "dtypes: int32(5), int64(8)\n",
      "memory usage: 1.9 MB\n"
     ]
    }
   ],
   "source": [
    "dfTest.info()"
   ]
  },
  {
   "cell_type": "markdown",
   "metadata": {},
   "source": [
    "#### Test Data Prediction"
   ]
  },
  {
   "cell_type": "code",
   "execution_count": 47,
   "metadata": {},
   "outputs": [],
   "source": [
    "# Use the loaded pickled model to make predictions\n",
    "predicted_test_DT = load_Model_DT.predict(dfTest.values)\n",
    "predicted_test_RF = load_Model_RF.predict(dfTest.values)\n",
    "predicted_test_GB = load_Model_GB.predict(dfTest.values)"
   ]
  },
  {
   "cell_type": "markdown",
   "metadata": {},
   "source": [
    "#### Save Predicted Test Data"
   ]
  },
  {
   "cell_type": "code",
   "execution_count": 52,
   "metadata": {},
   "outputs": [],
   "source": [
    "#Save All The Results Of Test Predictions To CSV\n",
    "dfTest['is_promoted'] = list(predicted_test_DT)\n",
    "dfTest.to_csv(datasetPath + 'TEST_PREDICTED_DT.csv')\n",
    "dfTest.drop(['is_promoted'], axis=1, inplace=True)\n",
    "\n",
    "dfTest['is_promoted'] = list(predicted_test_RF)\n",
    "dfTest.to_csv(datasetPath + 'TEST_PREDICTED_RF.csv')\n",
    "dfTest.drop(['is_promoted'], axis=1, inplace=True)\n",
    "\n",
    "dfTest['is_promoted'] = list(predicted_test_GB)\n",
    "dfTest.to_csv(datasetPath + 'TEST_PREDICTED_GB.csv')"
   ]
  }
 ],
 "metadata": {
  "kernelspec": {
   "display_name": "Python 3",
   "language": "python",
   "name": "python3"
  },
  "language_info": {
   "codemirror_mode": {
    "name": "ipython",
    "version": 3
   },
   "file_extension": ".py",
   "mimetype": "text/x-python",
   "name": "python",
   "nbconvert_exporter": "python",
   "pygments_lexer": "ipython3",
   "version": "3.7.4"
  }
 },
 "nbformat": 4,
 "nbformat_minor": 4
}
